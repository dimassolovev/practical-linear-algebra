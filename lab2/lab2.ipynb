{
 "cells": [
  {
   "cell_type": "markdown",
   "source": [
    "<h1 align=\"center\"> Лабораторная работа №2 </h1>\n",
    "\n",
    "---\n",
    "\n",
    "<h1 align=\"center\"> Университет ИТМО </h1>\n",
    "<h2 align=\"center\"> Факультет систем управления и робототехники </h2>\n",
    "\n",
    "---\n",
    "\n",
    "### Выполнили:\n",
    "- **Соколов Никита**  \n",
    "- **Минеев Кирилл**\n",
    "- **Соловьев Дмитрий**\n",
    "- **Семёнов Евгений**\n",
    "\n",
    "---\n",
    "\n",
    "### Проверил:\n",
    "- **Догадин Егор Витальевич**\n",
    "\n",
    "---\n",
    "\n",
    "### 23 сентября 2024 г.\n",
    "\n",
    "---"
   ],
   "metadata": {
    "collapsed": false
   },
   "id": "2aa6847162790f6f"
  },
  {
   "cell_type": "markdown",
   "source": [
    "# Подготовка."
   ],
   "metadata": {
    "collapsed": false
   },
   "id": "404e353f038a1dba"
  },
  {
   "cell_type": "markdown",
   "source": [
    "### Установка необходимых библиотек:"
   ],
   "metadata": {
    "collapsed": false
   },
   "id": "f506dc6a8b805b33"
  },
  {
   "cell_type": "code",
   "outputs": [
    {
     "name": "stdout",
     "output_type": "stream",
     "text": [
      "Requirement already satisfied: numpy in c:\\users\\dimon\\pycharmprojects\\practical-linear-algebra\\.venv\\lib\\site-packages (2.1.1)\n",
      "Requirement already satisfied: matplotlib in c:\\users\\dimon\\pycharmprojects\\practical-linear-algebra\\.venv\\lib\\site-packages (3.9.2)\n",
      "Requirement already satisfied: sympy in c:\\users\\dimon\\pycharmprojects\\practical-linear-algebra\\.venv\\lib\\site-packages (1.13.3)\n",
      "Requirement already satisfied: contourpy>=1.0.1 in c:\\users\\dimon\\pycharmprojects\\practical-linear-algebra\\.venv\\lib\\site-packages (from matplotlib) (1.3.0)\n",
      "Requirement already satisfied: cycler>=0.10 in c:\\users\\dimon\\pycharmprojects\\practical-linear-algebra\\.venv\\lib\\site-packages (from matplotlib) (0.12.1)\n",
      "Requirement already satisfied: fonttools>=4.22.0 in c:\\users\\dimon\\pycharmprojects\\practical-linear-algebra\\.venv\\lib\\site-packages (from matplotlib) (4.54.0)\n",
      "Requirement already satisfied: kiwisolver>=1.3.1 in c:\\users\\dimon\\pycharmprojects\\practical-linear-algebra\\.venv\\lib\\site-packages (from matplotlib) (1.4.7)\n",
      "Requirement already satisfied: packaging>=20.0 in c:\\users\\dimon\\pycharmprojects\\practical-linear-algebra\\.venv\\lib\\site-packages (from matplotlib) (24.1)\n",
      "Requirement already satisfied: pillow>=8 in c:\\users\\dimon\\pycharmprojects\\practical-linear-algebra\\.venv\\lib\\site-packages (from matplotlib) (10.4.0)\n",
      "Requirement already satisfied: pyparsing>=2.3.1 in c:\\users\\dimon\\pycharmprojects\\practical-linear-algebra\\.venv\\lib\\site-packages (from matplotlib) (3.1.4)\n",
      "Requirement already satisfied: python-dateutil>=2.7 in c:\\users\\dimon\\pycharmprojects\\practical-linear-algebra\\.venv\\lib\\site-packages (from matplotlib) (2.9.0.post0)\n",
      "Requirement already satisfied: mpmath<1.4,>=1.1.0 in c:\\users\\dimon\\pycharmprojects\\practical-linear-algebra\\.venv\\lib\\site-packages (from sympy) (1.3.0)\n",
      "Requirement already satisfied: six>=1.5 in c:\\users\\dimon\\pycharmprojects\\practical-linear-algebra\\.venv\\lib\\site-packages (from python-dateutil>=2.7->matplotlib) (1.16.0)\n"
     ]
    },
    {
     "name": "stderr",
     "output_type": "stream",
     "text": [
      "\n",
      "[notice] A new release of pip is available: 23.2.1 -> 24.2\n",
      "[notice] To update, run: python.exe -m pip install --upgrade pip\n"
     ]
    }
   ],
   "source": [
    "!pip install numpy matplotlib sympy"
   ],
   "metadata": {
    "collapsed": false,
    "ExecuteTime": {
     "end_time": "2024-09-24T11:10:14.591245600Z",
     "start_time": "2024-09-24T11:10:13.059844300Z"
    }
   },
   "id": "3a4d0c8a0b278aa2",
   "execution_count": 170
  },
  {
   "cell_type": "code",
   "outputs": [],
   "source": [
    "import numpy as np\n",
    "import matplotlib.pyplot as plt\n",
    "from sympy import *\n",
    "import random"
   ],
   "metadata": {
    "collapsed": false,
    "ExecuteTime": {
     "end_time": "2024-09-24T11:10:14.594245500Z",
     "start_time": "2024-09-24T11:10:14.590245300Z"
    }
   },
   "id": "381ac4b6506f6f0e",
   "execution_count": 171
  },
  {
   "cell_type": "markdown",
   "source": [
    "### Придумаем четыре целых числа a, b, c, d таким образом, чтобы все они были различными и ни одно из них не равнялось 0 или ±1."
   ],
   "metadata": {
    "collapsed": false
   },
   "id": "ead2f083560a69e6"
  },
  {
   "cell_type": "code",
   "outputs": [
    {
     "name": "stdout",
     "output_type": "stream",
     "text": [
      "6\t9\t13\t17\n"
     ]
    }
   ],
   "source": [
    "a = random.randint(1, 6)\n",
    "b = random.randint(a + 1, 11)\n",
    "c = random.randint(b + 1, 16)\n",
    "d = random.randint(c + 1, 21)\n",
    "\n",
    "\n",
    "print(a, b, c, d, sep = \"\\t\")"
   ],
   "metadata": {
    "collapsed": false,
    "ExecuteTime": {
     "end_time": "2024-09-24T11:10:14.638905600Z",
     "start_time": "2024-09-24T11:10:14.593245100Z"
    }
   },
   "id": "e9c11ab110fada17",
   "execution_count": 172
  },
  {
   "cell_type": "markdown",
   "source": [
    "### Исходные значения x и y:"
   ],
   "metadata": {
    "collapsed": false
   },
   "id": "ce4c618040777d67"
  },
  {
   "cell_type": "code",
   "outputs": [],
   "source": [
    "x_old = np.linspace(-5, 5, 11)\n",
    "y_old = np.linspace(-4, 4, 9)\n",
    "xy_old = np.column_stack([[x, y] for x in x_old for y in y_old])"
   ],
   "metadata": {
    "collapsed": false,
    "ExecuteTime": {
     "end_time": "2024-09-24T11:10:14.639905600Z",
     "start_time": "2024-09-24T11:10:14.618916800Z"
    }
   },
   "id": "7fb87f284eb6ca51",
   "execution_count": 173
  },
  {
   "cell_type": "markdown",
   "source": [
    "### Функции для визуализации линейных отображений: "
   ],
   "metadata": {
    "collapsed": false
   },
   "id": "8ac553234e0c3190"
  },
  {
   "cell_type": "code",
   "outputs": [],
   "source": [
    "colors = list(map(lambda x, y: (min(1, 1-y/4), min(1, 1+y/4), 1/5 + x/25), xy_old[0], xy_old[1]))\n",
    "\n",
    "def plot_grid(xy_grid):\n",
    "    plt.figure(figsize=(6, 6), facecolor=\"w\")\n",
    "    plt.scatter(xy_grid[0], xy_grid[1], s = 50, c = colors)\n",
    "    plt.axis('equal')\n",
    "    plt.grid(True)\n",
    "    \n",
    "    plt.gca().set_xticks(np.arange(min(xy_grid[0]), max(xy_grid[0]) + 1, 1))\n",
    "    plt.gca().set_yticks(np.arange(min(xy_grid[1]), max(xy_grid[1]) + 1, 1))"
   ],
   "metadata": {
    "collapsed": false,
    "ExecuteTime": {
     "end_time": "2024-09-24T11:10:14.639905600Z",
     "start_time": "2024-09-24T11:10:14.624128Z"
    }
   },
   "id": "b16dbf611a7d59b6",
   "execution_count": 174
  },
  {
   "cell_type": "markdown",
   "source": [
    "### Исходная сетка значений:"
   ],
   "metadata": {
    "collapsed": false
   },
   "id": "a2b89130845a39e5"
  },
  {
   "cell_type": "code",
   "outputs": [
    {
     "data": {
      "text/plain": "<Figure size 600x600 with 1 Axes>",
      "image/png": "[encoded data removed]"
     },
     "metadata": {},
     "output_type": "display_data"
    }
   ],
   "source": [
    "plot_grid(xy_old)"
   ],
   "metadata": {
    "collapsed": false,
    "ExecuteTime": {
     "end_time": "2024-09-24T11:10:14.717817400Z",
     "start_time": "2024-09-24T11:10:14.627905600Z"
    }
   },
   "id": "ed5c4bc227910ac7",
   "execution_count": 175
  },
  {
   "cell_type": "markdown",
   "source": [
    "# Задание 1."
   ],
   "metadata": {
    "collapsed": false
   },
   "id": "59faace21ea491c1"
  },
  {
   "cell_type": "markdown",
   "source": [
    "### Отражение (симметрия) плоскости относительно прямой y = ax."
   ],
   "metadata": {
    "collapsed": false
   },
   "id": "131b12617139bb5b"
  }
 ],
 "metadata": {
  "kernelspec": {
   "display_name": "Python 3",
   "language": "python",
   "name": "python3"
  },
  "language_info": {
   "codemirror_mode": {
    "name": "ipython",
    "version": 2
   },
   "file_extension": ".py",
   "mimetype": "text/x-python",
   "name": "python",
   "nbconvert_exporter": "python",
   "pygments_lexer": "ipython2",
   "version": "2.7.6"
  }
 },
 "nbformat": 4,
 "nbformat_minor": 5
}
