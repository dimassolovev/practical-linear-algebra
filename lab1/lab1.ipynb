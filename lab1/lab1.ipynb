{
 "cells": [
  {
   "cell_type": "markdown",
   "id": "cded31fe",
   "metadata": {},
   "source": [
    "# Лабораторная работа №1\n",
    "### Выполнили:\n",
    "#### Соколов Никита, Минеев Кирилл, Соловьёв Дмитрий, Семенов Евгений"
   ]
  },
  {
   "cell_type": "markdown",
   "id": "e19f8b57447c7cda",
   "metadata": {
    "collapsed": false
   },
   "source": [
    "# Задание 1. Шифр Хилла."
   ]
  },
  {
   "cell_type": "markdown",
   "id": "8617fb4eaee0d9d2",
   "metadata": {
    "collapsed": false
   },
   "source": [
    "### Установка необходимых библиотек:"
   ]
  },
  {
   "cell_type": "code",
   "execution_count": 1,
   "id": "d3e134b76b67985b",
   "metadata": {
    "ExecuteTime": {
     "end_time": "2024-09-20T16:35:49.642707800Z",
     "start_time": "2024-09-20T16:35:48.170433100Z"
    },
    "collapsed": false
   },
   "outputs": [
    {
     "name": "stdout",
     "output_type": "stream",
     "text": [
      "Requirement already satisfied: numpy in /Users/nvoron/Documents/GitHub/practical-linear-algebra/venv/lib/python3.8/site-packages (1.24.4)\n",
      "Requirement already satisfied: sympy in /Users/nvoron/Documents/GitHub/practical-linear-algebra/venv/lib/python3.8/site-packages (1.13.3)\n",
      "Requirement already satisfied: mpmath<1.4,>=1.1.0 in /Users/nvoron/Documents/GitHub/practical-linear-algebra/venv/lib/python3.8/site-packages (from sympy) (1.3.0)\n",
      "\u001b[33mWARNING: You are using pip version 19.2.3, however version 24.2 is available.\n",
      "You should consider upgrading via the 'pip install --upgrade pip' command.\u001b[0m\n"
     ]
    }
   ],
   "source": [
    "!pip install numpy sympy"
   ]
  },
  {
   "cell_type": "code",
   "execution_count": 2,
   "id": "7c5ef487646171c8",
   "metadata": {
    "ExecuteTime": {
     "end_time": "2024-09-20T16:35:49.649097400Z",
     "start_time": "2024-09-20T16:35:49.642707800Z"
    },
    "collapsed": false
   },
   "outputs": [],
   "source": [
    "import numpy as np\n",
    "from random import randint\n",
    "import math"
   ]
  },
  {
   "cell_type": "code",
   "execution_count": 3,
   "id": "75f26207d2ebe879",
   "metadata": {
    "ExecuteTime": {
     "end_time": "2024-09-20T16:35:49.651089600Z",
     "start_time": "2024-09-20T16:35:49.647089700Z"
    },
    "collapsed": false
   },
   "outputs": [
    {
     "name": "stdout",
     "output_type": "stream",
     "text": [
      "34\n"
     ]
    }
   ],
   "source": [
    "alphabet = \"АБВГДЕЁЖЗИЙКЛМНОПРСТУФХЦЧШЩЪЫЬЭЮЯ \"\n",
    "print(len(alphabet))"
   ]
  },
  {
   "cell_type": "markdown",
   "id": "8e64b28f431b250c",
   "metadata": {
    "collapsed": false
   },
   "source": [
    "### Ценное сообщение из 12 символов:"
   ]
  },
  {
   "cell_type": "code",
   "execution_count": 4,
   "id": "6ef8934148d63832",
   "metadata": {
    "ExecuteTime": {
     "end_time": "2024-09-20T16:35:49.656503800Z",
     "start_time": "2024-09-20T16:35:49.651089600Z"
    },
    "collapsed": false
   },
   "outputs": [],
   "source": [
    "message = \"Я ЛЮБЛЮ ХЛЕБ\""
   ]
  },
  {
   "cell_type": "markdown",
   "id": "bf0e2533834c1e42",
   "metadata": {
    "collapsed": false
   },
   "source": [
    "### 3 матрицы-ключа:"
   ]
  },
  {
   "cell_type": "code",
   "execution_count": 5,
   "id": "ba12188efece7c44",
   "metadata": {
    "ExecuteTime": {
     "end_time": "2024-09-20T16:35:49.657500300Z",
     "start_time": "2024-09-20T16:35:49.654577800Z"
    },
    "collapsed": false
   },
   "outputs": [
    {
     "name": "stdout",
     "output_type": "stream",
     "text": [
      "Матрица 2x2:\n",
      "[[14 15]\n",
      " [29 31]]\n",
      "Матрица 3x3:\n",
      "[[11 17 23]\n",
      " [31  6 24]\n",
      " [19  5 16]]\n",
      "Матрица 4x4:\n",
      "[[ 0 19 15 25]\n",
      " [17 13 15 30]\n",
      " [13 17 28 32]\n",
      " [19  0 25 14]]\n"
     ]
    }
   ],
   "source": [
    "def create_matrix(key_size):\n",
    "    while True:\n",
    "        matrix = np.random.randint(0, 33, size=(key_size, key_size))\n",
    "        if math.gcd(round(np.linalg.det(matrix)), len(alphabet)) == 1:\n",
    "            try:\n",
    "                inv_matrix = np.linalg.inv(matrix)\n",
    "                if np.allclose(inv_matrix, np.round(inv_matrix)):\n",
    "                    return matrix\n",
    "            except np.linalg.LinAlgError:\n",
    "                continue\n",
    "\n",
    "key_matrix2 = create_matrix(2)\n",
    "key_matrix3 = create_matrix(3)\n",
    "key_matrix4 = create_matrix(4)\n",
    "print(f\"Матрица 2x2:\\n{key_matrix2}\")\n",
    "print(f\"Матрица 3x3:\\n{key_matrix3}\")\n",
    "print(f\"Матрица 4x4:\\n{key_matrix4}\")"
   ]
  },
  {
   "cell_type": "markdown",
   "id": "c28b1eaf2504d2bd",
   "metadata": {
    "collapsed": false
   },
   "source": [
    "### Убедимся, что определители матриц не имеют общих делителей с длиной алфавита:"
   ]
  },
  {
   "cell_type": "code",
   "execution_count": 6,
   "id": "5a20ca4614676b39",
   "metadata": {
    "ExecuteTime": {
     "end_time": "2024-09-20T16:35:49.663737600Z",
     "start_time": "2024-09-20T16:35:49.658506900Z"
    },
    "collapsed": false
   },
   "outputs": [
    {
     "name": "stdout",
     "output_type": "stream",
     "text": [
      "Определители для матриц: 2x2: -1, 3x3: -1, 4x4: -1\n",
      "Условие выполнено: True\n"
     ]
    }
   ],
   "source": [
    "det_matrix2 = round(np.linalg.det(key_matrix2))\n",
    "det_matrix3 = round(np.linalg.det(key_matrix3))\n",
    "det_matrix4 = round(np.linalg.det(key_matrix4))\n",
    "\n",
    "print(f\"Определители для матриц: 2x2: {det_matrix2}, 3x3: {det_matrix3}, 4x4: {det_matrix4}\")\n",
    "print(f\"Условие выполнено: {all(np.gcd(det_matrix_i, len(alphabet)) == 1 for det_matrix_i in (det_matrix2, det_matrix3, det_matrix4))}\")"
   ]
  },
  {
   "cell_type": "markdown",
   "id": "d314ac5c08380f2c",
   "metadata": {
    "collapsed": false
   },
   "source": [
    "### Зашифруем сообщение с помощью каждого из ключей:"
   ]
  },
  {
   "cell_type": "code",
   "execution_count": 7,
   "id": "1d55e309d6a5a3de",
   "metadata": {
    "ExecuteTime": {
     "end_time": "2024-09-20T16:35:49.666861600Z",
     "start_time": "2024-09-20T16:35:49.663737600Z"
    },
    "collapsed": false
   },
   "outputs": [
    {
     "name": "stdout",
     "output_type": "stream",
     "text": [
      "Сообщения:\n",
      "1. ШМФРЧЪКСЛЧРЁ\n",
      "2.  ПМХЮДНФСВСЮ\n",
      "3. СИЪПХЭ ЯХЦПМ\n"
     ]
    }
   ],
   "source": [
    "def encrypt(key_matrix, msg):\n",
    "    message_indices = [alphabet.index(char) for char in msg]\n",
    "    key_size = len(key_matrix)\n",
    "    \n",
    "    while len(message_indices) % key_size != 0:\n",
    "        message_indices.append(alphabet.index(\" \"))\n",
    "\n",
    "    encrypted_indices = []\n",
    "    for i in range(0, len(message_indices), key_size):\n",
    "        block = np.array(message_indices[i : i + key_size])\n",
    "        encrypted_block = np.dot(key_matrix, block) % len(alphabet)\n",
    "        encrypted_indices.extend(encrypted_block)\n",
    "        \n",
    "    return \"\".join([alphabet[i] for i in encrypted_indices])\n",
    "\n",
    "enc2 = encrypt(key_matrix2, message)\n",
    "enc3 = encrypt(key_matrix3, message)\n",
    "enc4 = encrypt(key_matrix4, message)\n",
    "print(f\"Сообщения:\\n1. {enc2}\\n2. {enc3}\\n3. {enc4}\")"
   ]
  },
  {
   "cell_type": "markdown",
   "id": "6807d6454e899348",
   "metadata": {
    "collapsed": false
   },
   "source": [
    "### Теперь расшифруем сообщения: "
   ]
  },
  {
   "cell_type": "code",
   "execution_count": 8,
   "id": "d9e4af9df7c6eb02",
   "metadata": {
    "ExecuteTime": {
     "end_time": "2024-09-20T16:35:49.672842900Z",
     "start_time": "2024-09-20T16:35:49.667861200Z"
    },
    "collapsed": false
   },
   "outputs": [
    {
     "name": "stdout",
     "output_type": "stream",
     "text": [
      "Сообщения:\n",
      "1. Я ЛЮБЛЮ ХЛЕБ\n",
      "2. Я ЛЮБЛЮ ХЛЕБ\n",
      "3. Я ЛЮБЛЮ ХЛЕБ\n"
     ]
    }
   ],
   "source": [
    "def decrypt(key_matrix, enc):\n",
    "    inv_key_matrix = np.round(np.linalg.inv(key_matrix)).astype(int)\n",
    "    return encrypt(inv_key_matrix, enc)\n",
    "    \n",
    "dec2 = decrypt(key_matrix2, enc2)\n",
    "dec3 = decrypt(key_matrix3, enc3)\n",
    "dec4 = decrypt(key_matrix4, enc4)\n",
    "\n",
    "print(f\"Сообщения:\\n1. {dec2}\\n2. {dec3}\\n3. {dec4}\")"
   ]
  },
  {
   "cell_type": "markdown",
   "id": "5b6fbf965032c2e1",
   "metadata": {
    "collapsed": false
   },
   "source": [
    "### Сымитируем вредоносное вмешательство в зашифрованные сообщения:"
   ]
  },
  {
   "cell_type": "code",
   "execution_count": 9,
   "id": "fa4f153d9229cb6a",
   "metadata": {
    "ExecuteTime": {
     "end_time": "2024-09-20T16:35:49.749078600Z",
     "start_time": "2024-09-20T16:35:49.674842400Z"
    },
    "collapsed": false
   },
   "outputs": [
    {
     "name": "stdout",
     "output_type": "stream",
     "text": [
      "Сообщения:\n",
      "1. ШМФРЧХКПЛБРЁ\n",
      "2.  ЭМХЮДЩФСВБЮ\n",
      "3. САЪПХЭ ЪХЦП \n"
     ]
    }
   ],
   "source": [
    "def hack(enc):\n",
    "    indexes = []\n",
    "    chars = []\n",
    "    listed_mes = list(enc)\n",
    "\n",
    "    while len(indexes) != 3:\n",
    "        index = np.random.randint(0, len(enc))\n",
    "        char = alphabet[np.random.randint(0, len(alphabet))]\n",
    "        if (index not in indexes) and (char != enc[index]):\n",
    "            indexes.append(index)\n",
    "            chars.append(char)\n",
    "\n",
    "    for i in range(0, 3):\n",
    "        listed_mes[indexes[i]] = chars[i]\n",
    "\n",
    "    return \"\".join(listed_mes)\n",
    "\n",
    "\n",
    "hacked_enc2, hacked_enc3, hacked_enc4 = (hack(enc_i) for enc_i in (enc2, enc3, enc4))\n",
    "print(f\"Сообщения:\\n1. {hacked_enc2}\\n2. {hacked_enc3}\\n3. {hacked_enc4}\")"
   ]
  },
  {
   "cell_type": "markdown",
   "id": "43ee92d8c6986440",
   "metadata": {
    "collapsed": false
   },
   "source": [
    "### Расшифруем получившиеся сообщения: "
   ]
  },
  {
   "cell_type": "code",
   "execution_count": 10,
   "id": "87161b9e89c53224",
   "metadata": {
    "ExecuteTime": {
     "end_time": "2024-09-20T16:35:49.750163600Z",
     "start_time": "2024-09-20T16:35:49.679534900Z"
    },
    "collapsed": false
   },
   "outputs": [
    {
     "name": "stdout",
     "output_type": "stream",
     "text": [
      "Сообщения:\n",
      "1. Я ЛЮЫНБЪРЫЕБ\n",
      "2. УОАЮБЛМГЁЬХБ\n",
      "3. ОУКРЫШБСПЫЦЪ\n"
     ]
    }
   ],
   "source": [
    "hacked_dec2, hacked_dec3, hacked_dec4 = (decrypt(key_matrix_i, enc_i) for key_matrix_i, enc_i in zip((key_matrix2, key_matrix3, key_matrix4), (hacked_enc2, hacked_enc3, hacked_enc4)))\n",
    "\n",
    "print(f\"Сообщения:\\n1. {hacked_dec2}\\n2. {hacked_dec3}\\n3. {hacked_dec4}\")"
   ]
  },
  {
   "cell_type": "markdown",
   "id": "93256e7afdff1efc",
   "metadata": {
    "collapsed": false
   },
   "source": [
    "# Задание 2. Взлом шифра Хилла."
   ]
  },
  {
   "cell_type": "markdown",
   "id": "43f6f894e652212f",
   "metadata": {
    "collapsed": false
   },
   "source": [
    "### Ключ размера 2x2:"
   ]
  },
  {
   "cell_type": "code",
   "execution_count": 11,
   "id": "65366dcd8a6e03eb",
   "metadata": {
    "ExecuteTime": {
     "end_time": "2024-09-20T16:35:49.750163600Z",
     "start_time": "2024-09-20T16:35:49.684346500Z"
    },
    "collapsed": false
   },
   "outputs": [
    {
     "name": "stdout",
     "output_type": "stream",
     "text": [
      "[[10  3]\n",
      " [ 3  1]]\n"
     ]
    }
   ],
   "source": [
    "matrix_key_hidden = create_matrix(2)\n",
    "print(matrix_key_hidden)"
   ]
  },
  {
   "cell_type": "markdown",
   "id": "9a5f521b34d44b52",
   "metadata": {
    "collapsed": false
   },
   "source": [
    "### 2 сообщения из 12 символов:"
   ]
  },
  {
   "cell_type": "code",
   "execution_count": 12,
   "id": "a5df5c1937f53e03",
   "metadata": {
    "ExecuteTime": {
     "end_time": "2024-09-20T16:35:49.751079300Z",
     "start_time": "2024-09-20T16:35:49.687767300Z"
    },
    "collapsed": false
   },
   "outputs": [],
   "source": [
    "message1 = \"Я ЛЮБЛЮ БОРЩ\"\n",
    "message2 = \"Я ЛЮБЛЮ ХЛЕБ\""
   ]
  },
  {
   "cell_type": "markdown",
   "id": "c14ff98c61f15b9",
   "metadata": {
    "collapsed": false
   },
   "source": [
    "### Шифруем 2 сообщения: "
   ]
  },
  {
   "cell_type": "code",
   "execution_count": 13,
   "id": "7042e8c1d8f536fa",
   "metadata": {
    "ExecuteTime": {
     "end_time": "2024-09-20T16:35:49.752078100Z",
     "start_time": "2024-09-20T16:35:49.691772Z"
    },
    "collapsed": false
   },
   "outputs": [
    {
     "name": "stdout",
     "output_type": "stream",
     "text": [
      "Сообщения:\n",
      "1. КЪИ ЛОБЧФСЙИ\n",
      "2. КЪИ ЛОБЧСЙТП\n"
     ]
    }
   ],
   "source": [
    "enc1 = encrypt(matrix_key_hidden, message1)\n",
    "enc2 = encrypt(matrix_key_hidden, message2)\n",
    "print(f\"Сообщения:\\n1. {enc1}\\n2. {enc2}\")"
   ]
  },
  {
   "cell_type": "markdown",
   "id": "c7cbec0aebfef94b",
   "metadata": {
    "collapsed": false
   },
   "source": [
    "### Забыли одно исходное сообщение:"
   ]
  },
  {
   "cell_type": "code",
   "execution_count": 14,
   "id": "8c078eaa76a0f068",
   "metadata": {
    "ExecuteTime": {
     "end_time": "2024-09-20T16:35:49.834424900Z",
     "start_time": "2024-09-20T16:35:49.695806800Z"
    },
    "collapsed": false
   },
   "outputs": [],
   "source": [
    "message1 = None"
   ]
  },
  {
   "cell_type": "markdown",
   "id": "5547356ed5bba963",
   "metadata": {
    "collapsed": false
   },
   "source": [
    "### Восстанавливаем ключ по исходному и шифрованному сообщению:"
   ]
  },
  {
   "cell_type": "code",
   "execution_count": 15,
   "id": "2db02d4a332c4cf0",
   "metadata": {
    "ExecuteTime": {
     "end_time": "2024-09-20T16:35:49.835424400Z",
     "start_time": "2024-09-20T16:35:49.698028400Z"
    },
    "collapsed": false
   },
   "outputs": [
    {
     "name": "stdout",
     "output_type": "stream",
     "text": [
      "[[10  3]\n",
      " [ 3  1]]\n"
     ]
    }
   ],
   "source": [
    "encr_message_indices = [alphabet.index(char) for char in enc2]\n",
    "orig_message_indices = [alphabet.index(char) for char in message2]\n",
    "matrix_key = None\n",
    "flag = False\n",
    "\n",
    "for i in range(0, len(orig_message_indices)):\n",
    "    for j in range(i, len(orig_message_indices)-3):\n",
    "        orig_block = np.array([orig_message_indices[i:i+2], orig_message_indices[j+2:j+4]]).T\n",
    "        encr_block = np.array([encr_message_indices[i:i+2], encr_message_indices[j+2:j+4]]).T\n",
    "        for x in range(0, len(alphabet)):\n",
    "            if ((x * np.linalg.det(orig_block)) % len(alphabet)) == 1:\n",
    "                break\n",
    "        inv_orig_block = (x * np.array([[orig_block[1][1], -1* orig_block[1][0]], [-1*orig_block[0][1], orig_block[0][0]]]).T) % len(alphabet)\n",
    "        if np.allclose(inv_orig_block, np.round(inv_orig_block)):\n",
    "            matrix_key = (np.dot(encr_block, inv_orig_block) % len(alphabet)).astype(int)\n",
    "            flag = (encrypt(matrix_key, message2) == enc2)\n",
    "        if flag:\n",
    "            break\n",
    "    if flag:\n",
    "        break\n",
    "if matrix_key is not None:\n",
    "    print(matrix_key)\n",
    "    \n",
    "else:\n",
    "    print(\"Не получилось расшифровать, так как матрица фразы никак не инвертируется\")"
   ]
  },
  {
   "cell_type": "markdown",
   "id": "b7bf42ad9f0cc5e9",
   "metadata": {
    "collapsed": false
   },
   "source": [
    "### Расшифровываем забытое сообщение:"
   ]
  },
  {
   "cell_type": "code",
   "execution_count": 16,
   "id": "1f1d997f19797efb",
   "metadata": {
    "ExecuteTime": {
     "end_time": "2024-09-20T16:35:49.836450900Z",
     "start_time": "2024-09-20T16:35:49.703793600Z"
    },
    "collapsed": false
   },
   "outputs": [
    {
     "data": {
      "text/plain": [
       "'Я ЛЮБЛЮ БОРЩ'"
      ]
     },
     "execution_count": 16,
     "metadata": {},
     "output_type": "execute_result"
    }
   ],
   "source": [
    "decrypt(matrix_key, enc1)"
   ]
  },
  {
   "cell_type": "markdown",
   "id": "e9f72bf26baa47e5",
   "metadata": {
    "collapsed": false
   },
   "source": [
    "# Задание 3. Код Хэмминга"
   ]
  },
  {
   "cell_type": "markdown",
   "id": "e672eb6d44603125",
   "metadata": {
    "collapsed": false
   },
   "source": [
    "### Русский алфавит:\n"
   ]
  },
  {
   "cell_type": "code",
   "execution_count": 17,
   "id": "8452de2ca9847d86",
   "metadata": {
    "ExecuteTime": {
     "end_time": "2024-09-20T16:35:49.836450900Z",
     "start_time": "2024-09-20T16:35:49.708288200Z"
    },
    "collapsed": false
   },
   "outputs": [
    {
     "data": {
      "text/plain": [
       "32"
      ]
     },
     "execution_count": 17,
     "metadata": {},
     "output_type": "execute_result"
    }
   ],
   "source": [
    "russian_alphabet = \"абвгдежзийклмнопрстуфхцчшщъыьэюя\"\n",
    "n = len(russian_alphabet)\n",
    "n"
   ]
  },
  {
   "cell_type": "markdown",
   "id": "113dbc23cca8ed43",
   "metadata": {
    "collapsed": false
   },
   "source": [
    "### Присвоим каждой букве пятибитовый двоичный номер:"
   ]
  },
  {
   "cell_type": "code",
   "execution_count": 18,
   "id": "5769f65c0d71592d",
   "metadata": {
    "ExecuteTime": {
     "end_time": "2024-09-20T16:35:49.837423900Z",
     "start_time": "2024-09-20T16:35:49.712798900Z"
    },
    "collapsed": false
   },
   "outputs": [
    {
     "data": {
      "text/plain": [
       "{'а': '00000',\n",
       " 'б': '00001',\n",
       " 'в': '00010',\n",
       " 'г': '00011',\n",
       " 'д': '00100',\n",
       " 'е': '00101',\n",
       " 'ж': '00110',\n",
       " 'з': '00111',\n",
       " 'и': '01000',\n",
       " 'й': '01001',\n",
       " 'к': '01010',\n",
       " 'л': '01011',\n",
       " 'м': '01100',\n",
       " 'н': '01101',\n",
       " 'о': '01110',\n",
       " 'п': '01111',\n",
       " 'р': '10000',\n",
       " 'с': '10001',\n",
       " 'т': '10010',\n",
       " 'у': '10011',\n",
       " 'ф': '10100',\n",
       " 'х': '10101',\n",
       " 'ц': '10110',\n",
       " 'ч': '10111',\n",
       " 'ш': '11000',\n",
       " 'щ': '11001',\n",
       " 'ъ': '11010',\n",
       " 'ы': '11011',\n",
       " 'ь': '11100',\n",
       " 'э': '11101',\n",
       " 'ю': '11110',\n",
       " 'я': '11111'}"
      ]
     },
     "execution_count": 18,
     "metadata": {},
     "output_type": "execute_result"
    }
   ],
   "source": [
    "def convert_to_five_bit_number(number):\n",
    "    bin_number = \"\"\n",
    "    while number > 0:\n",
    "        bin_number += str(number % 2)\n",
    "        number //= 2\n",
    "    return \"0\" * (5 - len(bin_number)) + bin_number[::-1]\n",
    "\n",
    "\n",
    "russian_bin_alphabet = {russian_alphabet[i]: convert_to_five_bit_number(i) for i in range(n)}\n",
    "russian_bin_alphabet"
   ]
  },
  {
   "cell_type": "markdown",
   "id": "48264d609de44b31",
   "metadata": {
    "collapsed": false
   },
   "source": [
    "### Интересное слово из 4 букв:"
   ]
  },
  {
   "cell_type": "code",
   "execution_count": 19,
   "id": "408bef816ba444a4",
   "metadata": {
    "ExecuteTime": {
     "end_time": "2024-09-20T16:35:49.838441600Z",
     "start_time": "2024-09-20T16:35:49.717962800Z"
    },
    "collapsed": false
   },
   "outputs": [],
   "source": [
    "word = \"шифр\""
   ]
  },
  {
   "cell_type": "markdown",
   "id": "641a9343fc9e19ae",
   "metadata": {
    "collapsed": false
   },
   "source": [
    "### Закодируем двоичным кодом:"
   ]
  },
  {
   "cell_type": "code",
   "execution_count": 20,
   "id": "8fe3ca032058a381",
   "metadata": {
    "ExecuteTime": {
     "end_time": "2024-09-20T16:35:49.838441600Z",
     "start_time": "2024-09-20T16:35:49.720961600Z"
    },
    "collapsed": false
   },
   "outputs": [
    {
     "data": {
      "text/plain": [
       "'11000010001010010000'"
      ]
     },
     "execution_count": 20,
     "metadata": {},
     "output_type": "execute_result"
    }
   ],
   "source": [
    "encrypted_bin_word = \"\".join([russian_bin_alphabet[letter] for letter in list(word)])\n",
    "encrypted_bin_word"
   ]
  },
  {
   "cell_type": "markdown",
   "id": "188f2513626d2719",
   "metadata": {
    "collapsed": false
   },
   "source": [
    "### Составим матрицы G и H:"
   ]
  },
  {
   "cell_type": "code",
   "execution_count": 21,
   "id": "b93a0d87b8a77b3d",
   "metadata": {
    "ExecuteTime": {
     "end_time": "2024-09-20T16:35:49.851033500Z",
     "start_time": "2024-09-20T16:35:49.726532Z"
    },
    "collapsed": false
   },
   "outputs": [],
   "source": [
    "G = np.array([[1, 1, 0, 1], [1, 0, 1, 1], [1, 0, 0, 0], [0, 1, 1, 1], [0, 1, 0, 0], [0, 0, 1, 0], [0, 0, 0, 1]])\n",
    "H = np.array([[1, 0, 1, 0, 1, 0, 1], [0, 1, 1, 0, 0, 1, 1], [0, 0, 0, 1, 1, 1, 1]])"
   ]
  },
  {
   "cell_type": "markdown",
   "id": "b8d7e9335b9b8e07",
   "metadata": {
    "collapsed": false
   },
   "source": [
    "* Матрица G - это матрица-генератор кодов, которая преобразует информационное сообщение, представленное вектором размерности (4,1), в кодовое слово размерности (7,1). При этом она добавляет три дополнительных бита четности. Поэтому размер матрицы G составляет (4,7).\n",
    "* Матрица H используется для проверки целостности закодированного сообщения. Она анализирует кодовое слово размерности (7,1) и возвращает вектор размерности (3,1), который указывает на наличие ошибок. Если кодовое слово не повреждено, результат будет нуль-вектором; если присутствует ошибка, матрица H укажет на позицию испорченного бита. Соответственно, размер матрицы H составляет (3,7).\n",
    "* Можно сделать вывод, что ker H = Im G"
   ]
  },
  {
   "cell_type": "markdown",
   "id": "17cdfa7601f2f845",
   "metadata": {
    "collapsed": false
   },
   "source": [
    "### Закодируем слово с помощью матрицы G:"
   ]
  },
  {
   "cell_type": "code",
   "execution_count": 22,
   "id": "33b2b7d8c7ef12c7",
   "metadata": {
    "ExecuteTime": {
     "end_time": "2024-09-20T16:35:49.852058500Z",
     "start_time": "2024-09-20T16:35:49.730512600Z"
    },
    "collapsed": false
   },
   "outputs": [
    {
     "data": {
      "text/plain": [
       "'01111000101010010101000110010000000'"
      ]
     },
     "execution_count": 22,
     "metadata": {},
     "output_type": "execute_result"
    }
   ],
   "source": [
    "encoded_word = ''\n",
    "for i in range(0, len(encrypted_bin_word), 4):\n",
    "    p = np.array([int(c) for c in encrypted_bin_word[i : i + 4]])\n",
    "    x = G.dot(p) % 2\n",
    "    encoded_word += ''.join([str(i) for i in x])\n",
    "\n",
    "encoded_word"
   ]
  },
  {
   "cell_type": "markdown",
   "id": "8be7bc3fd3f7ad3c",
   "metadata": {
    "collapsed": false
   },
   "source": [
    "### Сымитируем вредоносное вмешательство:"
   ]
  },
  {
   "cell_type": "code",
   "execution_count": 23,
   "id": "17a5c6a5c8f56875",
   "metadata": {
    "ExecuteTime": {
     "end_time": "2024-09-20T16:35:49.853050600Z",
     "start_time": "2024-09-20T16:35:49.735866400Z"
    },
    "collapsed": false
   },
   "outputs": [],
   "source": [
    "broken_words = []\n",
    "broken1 = list(encoded_word)\n",
    "for _ in range(1):\n",
    "    i = randint(0, len(broken1) - 1)\n",
    "    broken1[i] = '1' if broken1[i] == '0' else '0'\n",
    "broken1 = ''.join(broken1)\n",
    "broken_words.append(broken1)\n",
    "\n",
    "broken2 = list(encoded_word)\n",
    "for _ in range(2):\n",
    "    i = randint(0, len(broken2) - 1)\n",
    "    broken2[i] = '1' if broken2[i] == '0' else '0'\n",
    "broken2 = ''.join(broken2)\n",
    "broken_words.append(broken2)\n",
    "\n",
    "broken3 = list(encoded_word)\n",
    "for _ in range(3):\n",
    "    i = randint(0, len(broken3) - 1)\n",
    "    broken3[i] = '1' if broken3[i] == '0' else '0'\n",
    "broken3 = ''.join(broken3)\n",
    "broken_words.append(broken3)\n",
    "\n",
    "broken4 = list(encoded_word)\n",
    "for _ in range(4):\n",
    "    i = randint(0, len(broken4) - 1)\n",
    "    broken4[i] = '1' if broken4[i] == '0' else '0'\n",
    "broken4 = ''.join(broken4)\n",
    "broken_words.append(broken4)"
   ]
  },
  {
   "cell_type": "markdown",
   "id": "7658e879d5fab206",
   "metadata": {
    "collapsed": false
   },
   "source": [
    "### Находим и исправляем ошибки с помощью матрицы H и декодируем сообщение:"
   ]
  },
  {
   "cell_type": "code",
   "execution_count": 24,
   "id": "9e76a9bc30ff1849",
   "metadata": {
    "ExecuteTime": {
     "end_time": "2024-09-20T16:35:49.854050700Z",
     "start_time": "2024-09-20T16:35:49.738549700Z"
    },
    "collapsed": false
   },
   "outputs": [
    {
     "name": "stdout",
     "output_type": "stream",
     "text": [
      "[0 0 0]\n",
      "[0 0 0]\n",
      "[0 0 0]\n",
      "[0 0 0]\n",
      "[1 1 1]\n",
      "---\n",
      "[0 0 0]\n",
      "[0 0 0]\n",
      "[0 0 0]\n",
      "[0 1 0]\n",
      "[1 0 1]\n",
      "---\n",
      "[1 1 1]\n",
      "[0 0 1]\n",
      "[0 0 0]\n",
      "[1 1 1]\n",
      "[0 0 0]\n",
      "---\n",
      "[0 0 0]\n",
      "[1 0 0]\n",
      "[1 1 1]\n",
      "[1 1 0]\n",
      "[0 1 0]\n",
      "---\n"
     ]
    }
   ],
   "source": [
    "R = np.array([[0, 0, 1, 0, 0, 0, 0], [0, 0, 0, 0, 1, 0, 0], [0, 0, 0, 0, 0, 1, 0], [0, 0, 0, 0, 0, 0, 1]])\n",
    "word_bins = []\n",
    "for broken in broken_words:\n",
    "    word_bin = ''\n",
    "    for i in range(0, len(broken), 7):\n",
    "        r = np.array([int(c) for c in broken[i : i + 7]])\n",
    "        z = H.dot(r) % 2\n",
    "        print(z)\n",
    "        if sum(z) != 0:\n",
    "            idx = int(''.join([str(n) for n in z[::-1]]), 2) - 1\n",
    "            r[idx] = 1 if r[idx] == 0 else 0\n",
    "        p = R.dot(r) % 2\n",
    "        word_bin += ''.join([str(i) for i in p])\n",
    "    print('---')\n",
    "    word_bins.append(word_bin)"
   ]
  },
  {
   "cell_type": "markdown",
   "id": "de1a66db6e59e7dc",
   "metadata": {
    "collapsed": false
   },
   "source": [
    "### Переводим полученный результат в слово из 4-х букв"
   ]
  },
  {
   "cell_type": "code",
   "execution_count": 25,
   "id": "3332e0e31b68692e",
   "metadata": {
    "ExecuteTime": {
     "end_time": "2024-09-20T16:35:49.854050700Z",
     "start_time": "2024-09-20T16:35:49.745460100Z"
    },
    "collapsed": false
   },
   "outputs": [
    {
     "name": "stdout",
     "output_type": "stream",
     "text": [
      "шифр\n",
      "шифр\n",
      "шифр\n",
      "шифр\n"
     ]
    }
   ],
   "source": [
    "for word_bin in word_bins:\n",
    "    result = ''\n",
    "    for i in range(0, len(word_bin), 5):\n",
    "        result += russian_alphabet[list(russian_bin_alphabet.values()).index(word_bin[i : i + 5])]\n",
    "    print(result)"
   ]
  },
  {
   "cell_type": "markdown",
   "id": "a45b1551903f3454",
   "metadata": {
    "collapsed": false
   },
   "source": [
    "### Вывод: \n",
    "#### В данной лабораторной работе мы узнали о разных видах шифров. Научились шифровать и с/без ключа расшифровывать сообщения. Поняли как работает шифр Хилла и код Хэмминга"
   ]
  }
 ],
 "metadata": {
  "kernelspec": {
   "display_name": "Python 3",
   "language": "python",
   "name": "python3"
  },
  "language_info": {
   "codemirror_mode": {
    "name": "ipython",
    "version": 3
   },
   "file_extension": ".py",
   "mimetype": "text/x-python",
   "name": "python",
   "nbconvert_exporter": "python",
   "pygments_lexer": "ipython3",
   "version": "3.8.2"
  }
 },
 "nbformat": 4,
 "nbformat_minor": 5
}
