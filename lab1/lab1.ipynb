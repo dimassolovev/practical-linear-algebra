{
 "cells": [
  {
   "cell_type": "markdown",
   "source": [
    "# Задание 1. Шифр Хилла."
   ],
   "metadata": {
    "collapsed": false
   },
   "id": "e19f8b57447c7cda"
  },
  {
   "cell_type": "markdown",
   "source": [],
   "metadata": {
    "collapsed": false
   },
   "id": "8617fb4eaee0d9d2"
  },
  {
   "cell_type": "code",
   "outputs": [],
   "source": [
    "import numpy as np\n",
    "from sympy import Matrix\n",
    "from random import randint"
   ],
   "metadata": {
    "collapsed": false,
    "ExecuteTime": {
     "end_time": "2024-09-20T12:08:08.190791100Z",
     "start_time": "2024-09-20T12:08:08.165045800Z"
    }
   },
   "id": "7c5ef487646171c8",
   "execution_count": 935
  },
  {
   "cell_type": "code",
   "outputs": [
    {
     "name": "stdout",
     "output_type": "stream",
     "text": [
      "31\n"
     ]
    }
   ],
   "source": [
    "local_alphabet = ['б', 'д', 'е', 'ё', 'ж', 'з', 'и', 'й', 'к', 'л', 'м', 'н', 'о', 'п', 'р', 'с', 'т', 'у',\n",
    " 'ф', 'х', 'ц', 'ч', 'ш', 'щ', 'ъ', 'ы', 'ь', 'э', 'ю', 'я', ' ']\n",
    "n = len(local_alphabet)\n",
    "print(n)"
   ],
   "metadata": {
    "collapsed": false,
    "ExecuteTime": {
     "end_time": "2024-09-20T12:08:08.192786Z",
     "start_time": "2024-09-20T12:08:08.176812600Z"
    }
   },
   "id": "75f26207d2ebe879",
   "execution_count": 936
  },
  {
   "cell_type": "markdown",
   "source": [
    "### Ценное сообщение из 12 символов:"
   ],
   "metadata": {
    "collapsed": false
   },
   "id": "8e64b28f431b250c"
  },
  {
   "cell_type": "code",
   "outputs": [],
   "source": [
    "message = \"я люблю хлеб\""
   ],
   "metadata": {
    "collapsed": false,
    "ExecuteTime": {
     "end_time": "2024-09-20T12:08:08.203019900Z",
     "start_time": "2024-09-20T12:08:08.194795400Z"
    }
   },
   "id": "6ef8934148d63832",
   "execution_count": 937
  },
  {
   "cell_type": "markdown",
   "source": [
    "### 3 матрицы-ключа:"
   ],
   "metadata": {
    "collapsed": false
   },
   "id": "bf0e2533834c1e42"
  },
  {
   "cell_type": "code",
   "outputs": [],
   "source": [
    "key_matrix2 = np.array([[38, 21], [29, 16]])\n",
    "key_matrix3 = np.array([[17, -39, -9], [-27, -90, 20], [-94, -9, -18]])\n",
    "key_matrix4 = np.array([[-30, -45, -15, 76], [67, 30, 90, 73], [36, -66, 20, -5], [-97, 26, -20, -69]])"
   ],
   "metadata": {
    "collapsed": false,
    "ExecuteTime": {
     "end_time": "2024-09-20T12:08:08.228203900Z",
     "start_time": "2024-09-20T12:08:08.198812800Z"
    }
   },
   "id": "ba12188efece7c44",
   "execution_count": 938
  },
  {
   "cell_type": "markdown",
   "source": [
    "### Убедимся, что определители матриц не имеют общих делителей с n:"
   ],
   "metadata": {
    "collapsed": false
   },
   "id": "c28b1eaf2504d2bd"
  },
  {
   "cell_type": "code",
   "outputs": [
    {
     "name": "stdout",
     "output_type": "stream",
     "text": [
      "Определители для матриц: 2x2: -1, 3x3: 196827, 4x4: 59833990\n",
      "Условие выполнено: True\n"
     ]
    }
   ],
   "source": [
    "det_matrix2 = round(np.linalg.det(key_matrix2))\n",
    "det_matrix3 = round(np.linalg.det(key_matrix3))\n",
    "det_matrix4 = round(np.linalg.det(key_matrix4))\n",
    "\n",
    "print(f\"Определители для матриц: 2x2: {det_matrix2}, 3x3: {det_matrix3}, 4x4: {det_matrix4}\")\n",
    "print(f\"Условие выполнено: {all(np.gcd(det_matrix_i, n) == 1 for det_matrix_i in (det_matrix2, det_matrix3, det_matrix4))}\")"
   ],
   "metadata": {
    "collapsed": false,
    "ExecuteTime": {
     "end_time": "2024-09-20T12:08:08.230186300Z",
     "start_time": "2024-09-20T12:08:08.204042900Z"
    }
   },
   "id": "5a20ca4614676b39",
   "execution_count": 939
  },
  {
   "cell_type": "markdown",
   "source": [],
   "metadata": {
    "collapsed": false
   },
   "id": "e8d62f52b7b5288e"
  },
  {
   "cell_type": "markdown",
   "source": [
    "### Зашифруем сообщение с помощью каждого из ключей:"
   ],
   "metadata": {
    "collapsed": false
   },
   "id": "d314ac5c08380f2c"
  },
  {
   "cell_type": "code",
   "outputs": [
    {
     "name": "stdout",
     "output_type": "stream",
     "text": [
      "Сообщения:\n",
      "1. эхбэёццчопрэ\n",
      "2. уржщпэёънпнж\n",
      "3. чъёляцешффиы\n"
     ]
    }
   ],
   "source": [
    "def encrypt(key_matrix, msg):\n",
    "        message_indices = [local_alphabet.index(char) for char in msg]\n",
    "        key_size = key_matrix.shape[0]\n",
    "        \n",
    "        while len(message_indices) % key_size != 0:\n",
    "            message_indices.append(local_alphabet.index(\" \"))\n",
    "\n",
    "        encrypted_indices = []\n",
    "        for i in range(0, len(message_indices), key_size):\n",
    "            block = np.array(message_indices[i : i + key_size])\n",
    "            encrypted_block = np.dot(key_matrix, block)\n",
    "            for j in range(len(encrypted_block)):\n",
    "                if encrypted_block[j] != 0:\n",
    "                    encrypted_block[j] = encrypted_block[j] % len(local_alphabet)\n",
    "            encrypted_indices.extend(encrypted_block)\n",
    "            \n",
    "        return \"\".join([local_alphabet[i] for i in encrypted_indices])\n",
    "\n",
    "\n",
    "enc2, enc3, enc4 = (encrypt(key_matrix_i, message) for key_matrix_i in (key_matrix2, key_matrix3, key_matrix4))\n",
    "print(f\"Сообщения:\\n1. {enc2}\\n2. {enc3}\\n3. {enc4}\")"
   ],
   "metadata": {
    "collapsed": false,
    "ExecuteTime": {
     "end_time": "2024-09-20T12:08:08.230186300Z",
     "start_time": "2024-09-20T12:08:08.207712700Z"
    }
   },
   "id": "1d55e309d6a5a3de",
   "execution_count": 940
  },
  {
   "cell_type": "markdown",
   "source": [
    "### Теперь расшифруем сообщения: "
   ],
   "metadata": {
    "collapsed": false
   },
   "id": "6807d6454e899348"
  },
  {
   "cell_type": "code",
   "outputs": [
    {
     "name": "stdout",
     "output_type": "stream",
     "text": [
      "Сообщения:\n",
      "1. я люблю хлеб\n",
      "2. я люблю хлеб\n",
      "3. я люблю хлеб\n"
     ]
    }
   ],
   "source": [
    "def decrypt(key_matrix, enc):\n",
    "    dim = key_matrix.shape[0]\n",
    "    p = []\n",
    "    dec = ''\n",
    "    k_inv = np.array(Matrix(key_matrix).inv_mod(n))\n",
    "    for i in range(len(enc)):\n",
    "        if i % dim == 0 and i != 0:\n",
    "            c = k_inv.dot(p) % n\n",
    "            for j in c:\n",
    "                dec += local_alphabet[j]\n",
    "            p = []\n",
    "        p.append(local_alphabet.index(enc[i]))\n",
    "    c = k_inv.dot(p) % n\n",
    "    for j in c:\n",
    "        dec += local_alphabet[j]\n",
    "        \n",
    "    return dec\n",
    "\n",
    "dec2, dec3, dec4 = (decrypt(key_matrix_i, enc_i) for key_matrix_i, enc_i in zip((key_matrix2, key_matrix3, key_matrix4), (enc2, enc3, enc4)))\n",
    "print(f\"Сообщения:\\n1. {dec2}\\n2. {dec3}\\n3. {dec4}\")"
   ],
   "metadata": {
    "collapsed": false,
    "ExecuteTime": {
     "end_time": "2024-09-20T12:08:08.230186300Z",
     "start_time": "2024-09-20T12:08:08.215722700Z"
    }
   },
   "id": "d9e4af9df7c6eb02",
   "execution_count": 941
  },
  {
   "cell_type": "markdown",
   "source": [
    "### Сымитируем вредоносное вмешательство в зашифрованные сообщения:"
   ],
   "metadata": {
    "collapsed": false
   },
   "id": "5b6fbf965032c2e1"
  },
  {
   "cell_type": "code",
   "outputs": [
    {
     "name": "stdout",
     "output_type": "stream",
     "text": [
      "Сообщения:\n",
      "1. эхбпёцьчоярэ\n",
      "2. урйщпзуънпнж\n",
      "3. чъёлърешффиё\n"
     ]
    }
   ],
   "source": [
    "def hack(enc):\n",
    "    indexes = []\n",
    "    chars = []\n",
    "    listed_mes = list(enc)\n",
    "\n",
    "    while len(indexes) != 3:\n",
    "        index = np.random.randint(0, len(enc))\n",
    "        char = local_alphabet[np.random.randint(0, n)]\n",
    "        if (index not in indexes) and (char != enc[index]):\n",
    "            indexes.append(index)\n",
    "            chars.append(char)\n",
    "\n",
    "    for i in range(0, 3):\n",
    "        listed_mes[indexes[i]] = chars[i]\n",
    "\n",
    "    return \"\".join(listed_mes)\n",
    "\n",
    "\n",
    "hacked_enc2, hacked_enc3, hacked_enc4 = (hack(enc_i) for enc_i in (enc2, enc3, enc4))\n",
    "print(f\"Сообщения:\\n1. {hacked_enc2}\\n2. {hacked_enc3}\\n3. {hacked_enc4}\")"
   ],
   "metadata": {
    "collapsed": false,
    "ExecuteTime": {
     "end_time": "2024-09-20T12:08:08.273466400Z",
     "start_time": "2024-09-20T12:08:08.231182Z"
    }
   },
   "id": "fa4f153d9229cb6a",
   "execution_count": 942
  },
  {
   "cell_type": "markdown",
   "source": [
    "### Расшифруем получившиеся сообщения: "
   ],
   "metadata": {
    "collapsed": false
   },
   "id": "43ee92d8c6986440"
  },
  {
   "cell_type": "code",
   "outputs": [
    {
     "name": "stdout",
     "output_type": "stream",
     "text": [
      "Сообщения:\n",
      "1. я ыеблыфрчеб\n",
      "2. рппрнчтюблеб\n",
      "3. я люиуолрчщь\n"
     ]
    }
   ],
   "source": [
    "hacked_dec2, hacked_dec3, hacked_dec4 = (decrypt(key_matrix_i, enc_i) for key_matrix_i, enc_i in zip((key_matrix2, key_matrix3, key_matrix4), (hacked_enc2, hacked_enc3, hacked_enc4)))\n",
    "\n",
    "print(f\"Сообщения:\\n1. {hacked_dec2}\\n2. {hacked_dec3}\\n3. {hacked_dec4}\")"
   ],
   "metadata": {
    "collapsed": false,
    "ExecuteTime": {
     "end_time": "2024-09-20T12:08:08.298933100Z",
     "start_time": "2024-09-20T12:08:08.276459600Z"
    }
   },
   "id": "87161b9e89c53224",
   "execution_count": 943
  }
 ],
 "metadata": {
  "kernelspec": {
   "display_name": "Python 3",
   "language": "python",
   "name": "python3"
  },
  "language_info": {
   "codemirror_mode": {
    "name": "ipython",
    "version": 2
   },
   "file_extension": ".py",
   "mimetype": "text/x-python",
   "name": "python",
   "nbconvert_exporter": "python",
   "pygments_lexer": "ipython2",
   "version": "2.7.6"
  }
 },
 "nbformat": 4,
 "nbformat_minor": 5
}
