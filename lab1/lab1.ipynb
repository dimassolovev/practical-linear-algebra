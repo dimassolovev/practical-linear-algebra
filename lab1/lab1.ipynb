{
 "cells": [
  {
   "cell_type": "markdown",
   "source": [
    "# Задание 1. Шифр Хилла."
   ],
   "metadata": {
    "collapsed": false
   },
   "id": "e19f8b57447c7cda"
  },
  {
   "cell_type": "markdown",
   "source": [
    "### Установка необходимых библиотек:"
   ],
   "metadata": {
    "collapsed": false
   },
   "id": "8617fb4eaee0d9d2"
  },
  {
   "cell_type": "code",
   "outputs": [
    {
     "name": "stdout",
     "output_type": "stream",
     "text": [
      "Requirement already satisfied: numpy in c:\\users\\dimon\\pycharmprojects\\practical-linear-algebra\\.venv\\lib\\site-packages (2.1.1)\n",
      "Requirement already satisfied: sympy in c:\\users\\dimon\\pycharmprojects\\practical-linear-algebra\\.venv\\lib\\site-packages (1.13.3)\n",
      "Requirement already satisfied: mpmath<1.4,>=1.1.0 in c:\\users\\dimon\\pycharmprojects\\practical-linear-algebra\\.venv\\lib\\site-packages (from sympy) (1.3.0)\n"
     ]
    },
    {
     "name": "stderr",
     "output_type": "stream",
     "text": [
      "\n",
      "[notice] A new release of pip is available: 23.2.1 -> 24.2\n",
      "[notice] To update, run: python.exe -m pip install --upgrade pip\n"
     ]
    }
   ],
   "source": [
    "!pip install numpy sympy"
   ],
   "metadata": {
    "collapsed": false,
    "ExecuteTime": {
     "end_time": "2024-09-20T16:51:29.826789700Z",
     "start_time": "2024-09-20T16:51:28.477310100Z"
    }
   },
   "id": "d3e134b76b67985b",
   "execution_count": 1
  },
  {
   "cell_type": "code",
   "outputs": [],
   "source": [
    "import numpy as np\n",
    "from sympy import Matrix\n",
    "from random import randint"
   ],
   "metadata": {
    "collapsed": false,
    "ExecuteTime": {
     "end_time": "2024-09-20T16:51:30.355789700Z",
     "start_time": "2024-09-20T16:51:29.825789600Z"
    }
   },
   "id": "7c5ef487646171c8",
   "execution_count": 2
  },
  {
   "cell_type": "code",
   "outputs": [
    {
     "name": "stdout",
     "output_type": "stream",
     "text": [
      "31\n"
     ]
    }
   ],
   "source": [
    "local_alphabet = ['б', 'д', 'е', 'ё', 'ж', 'з', 'и', 'й', 'к', 'л', 'м', 'н', 'о', 'п', 'р', 'с', 'т', 'у',\n",
    " 'ф', 'х', 'ц', 'ч', 'ш', 'щ', 'ъ', 'ы', 'ь', 'э', 'ю', 'я', ' ']\n",
    "n = len(local_alphabet)\n",
    "print(n)"
   ],
   "metadata": {
    "collapsed": false,
    "ExecuteTime": {
     "end_time": "2024-09-20T16:51:30.360371300Z",
     "start_time": "2024-09-20T16:51:30.357773300Z"
    }
   },
   "id": "75f26207d2ebe879",
   "execution_count": 3
  },
  {
   "cell_type": "markdown",
   "source": [
    "### Ценное сообщение из 12 символов:"
   ],
   "metadata": {
    "collapsed": false
   },
   "id": "8e64b28f431b250c"
  },
  {
   "cell_type": "code",
   "outputs": [],
   "source": [
    "message = \"я люблю хлеб\""
   ],
   "metadata": {
    "collapsed": false,
    "ExecuteTime": {
     "end_time": "2024-09-20T16:51:30.368097300Z",
     "start_time": "2024-09-20T16:51:30.360371300Z"
    }
   },
   "id": "6ef8934148d63832",
   "execution_count": 4
  },
  {
   "cell_type": "markdown",
   "source": [
    "### 3 матрицы-ключа:"
   ],
   "metadata": {
    "collapsed": false
   },
   "id": "bf0e2533834c1e42"
  },
  {
   "cell_type": "code",
   "outputs": [],
   "source": [
    "key_matrix2 = np.array([[38, 21], [29, 16]])\n",
    "key_matrix3 = np.array([[17, -39, -9], [-27, -90, 20], [-94, -9, -18]])\n",
    "key_matrix4 = np.array([[-30, -45, -15, 76], [67, 30, 90, 73], [36, -66, 20, -5], [-97, 26, -20, -69]])"
   ],
   "metadata": {
    "collapsed": false,
    "ExecuteTime": {
     "end_time": "2024-09-20T16:51:30.371103100Z",
     "start_time": "2024-09-20T16:51:30.365478600Z"
    }
   },
   "id": "ba12188efece7c44",
   "execution_count": 5
  },
  {
   "cell_type": "markdown",
   "source": [
    "### Убедимся, что определители матриц не имеют общих делителей с n:"
   ],
   "metadata": {
    "collapsed": false
   },
   "id": "c28b1eaf2504d2bd"
  },
  {
   "cell_type": "code",
   "outputs": [
    {
     "name": "stdout",
     "output_type": "stream",
     "text": [
      "Определители для матриц: 2x2: -1, 3x3: 196827, 4x4: 59833990\n",
      "Условие выполнено: True\n"
     ]
    }
   ],
   "source": [
    "det_matrix2 = round(np.linalg.det(key_matrix2))\n",
    "det_matrix3 = round(np.linalg.det(key_matrix3))\n",
    "det_matrix4 = round(np.linalg.det(key_matrix4))\n",
    "\n",
    "print(f\"Определители для матриц: 2x2: {det_matrix2}, 3x3: {det_matrix3}, 4x4: {det_matrix4}\")\n",
    "print(f\"Условие выполнено: {all(np.gcd(det_matrix_i, n) == 1 for det_matrix_i in (det_matrix2, det_matrix3, det_matrix4))}\")"
   ],
   "metadata": {
    "collapsed": false,
    "ExecuteTime": {
     "end_time": "2024-09-20T16:51:30.378566300Z",
     "start_time": "2024-09-20T16:51:30.371103100Z"
    }
   },
   "id": "5a20ca4614676b39",
   "execution_count": 6
  },
  {
   "cell_type": "markdown",
   "source": [],
   "metadata": {
    "collapsed": false
   },
   "id": "e8d62f52b7b5288e"
  },
  {
   "cell_type": "markdown",
   "source": [
    "### Зашифруем сообщение с помощью каждого из ключей:"
   ],
   "metadata": {
    "collapsed": false
   },
   "id": "d314ac5c08380f2c"
  },
  {
   "cell_type": "code",
   "outputs": [
    {
     "name": "stdout",
     "output_type": "stream",
     "text": [
      "Сообщения:\n",
      "1. эхбэёццчопрэ\n",
      "2. уржщпэёънпнж\n",
      "3. чъёляцешффиы\n"
     ]
    }
   ],
   "source": [
    "def encrypt(key_matrix, msg):\n",
    "        message_indices = [local_alphabet.index(char) for char in msg]\n",
    "        key_size = key_matrix.shape[0]\n",
    "        \n",
    "        while len(message_indices) % key_size != 0:\n",
    "            message_indices.append(local_alphabet.index(\" \"))\n",
    "\n",
    "        encrypted_indices = []\n",
    "        for i in range(0, len(message_indices), key_size):\n",
    "            block = np.array(message_indices[i : i + key_size])\n",
    "            encrypted_block = np.dot(key_matrix, block)\n",
    "            for j in range(len(encrypted_block)):\n",
    "                if encrypted_block[j] != 0:\n",
    "                    encrypted_block[j] = encrypted_block[j] % len(local_alphabet)\n",
    "            encrypted_indices.extend(encrypted_block)\n",
    "            \n",
    "        return \"\".join([local_alphabet[i] for i in encrypted_indices])\n",
    "\n",
    "\n",
    "enc2, enc3, enc4 = (encrypt(key_matrix_i, message) for key_matrix_i in (key_matrix2, key_matrix3, key_matrix4))\n",
    "print(f\"Сообщения:\\n1. {enc2}\\n2. {enc3}\\n3. {enc4}\")"
   ],
   "metadata": {
    "collapsed": false,
    "ExecuteTime": {
     "end_time": "2024-09-20T16:51:30.444617900Z",
     "start_time": "2024-09-20T16:51:30.376078Z"
    }
   },
   "id": "1d55e309d6a5a3de",
   "execution_count": 7
  },
  {
   "cell_type": "markdown",
   "source": [
    "### Теперь расшифруем сообщения: "
   ],
   "metadata": {
    "collapsed": false
   },
   "id": "6807d6454e899348"
  },
  {
   "cell_type": "code",
   "outputs": [
    {
     "name": "stdout",
     "output_type": "stream",
     "text": [
      "Сообщения:\n",
      "1. я люблю хлеб\n",
      "2. я люблю хлеб\n",
      "3. я люблю хлеб\n"
     ]
    }
   ],
   "source": [
    "def decrypt(key_matrix, enc):\n",
    "    dim = key_matrix.shape[0]\n",
    "    p = []\n",
    "    dec = ''\n",
    "    k_inv = np.array(Matrix(key_matrix).inv_mod(n))\n",
    "    for i in range(len(enc)):\n",
    "        if i % dim == 0 and i != 0:\n",
    "            c = k_inv.dot(p) % n\n",
    "            for j in c:\n",
    "                dec += local_alphabet[j]\n",
    "            p = []\n",
    "        p.append(local_alphabet.index(enc[i]))\n",
    "    c = k_inv.dot(p) % n\n",
    "    for j in c:\n",
    "        dec += local_alphabet[j]\n",
    "        \n",
    "    return dec\n",
    "\n",
    "dec2, dec3, dec4 = (decrypt(key_matrix_i, enc_i) for key_matrix_i, enc_i in zip((key_matrix2, key_matrix3, key_matrix4), (enc2, enc3, enc4)))\n",
    "print(f\"Сообщения:\\n1. {dec2}\\n2. {dec3}\\n3. {dec4}\")"
   ],
   "metadata": {
    "collapsed": false,
    "ExecuteTime": {
     "end_time": "2024-09-20T16:51:30.446597900Z",
     "start_time": "2024-09-20T16:51:30.381573400Z"
    }
   },
   "id": "d9e4af9df7c6eb02",
   "execution_count": 8
  },
  {
   "cell_type": "markdown",
   "source": [
    "### Сымитируем вредоносное вмешательство в зашифрованные сообщения:"
   ],
   "metadata": {
    "collapsed": false
   },
   "id": "5b6fbf965032c2e1"
  },
  {
   "cell_type": "code",
   "outputs": [
    {
     "name": "stdout",
     "output_type": "stream",
     "text": [
      "Сообщения:\n",
      "1. эхбюёпцчопйэ\n",
      "2. сржщпьёънжнж\n",
      "3. чъёляци ф иы\n"
     ]
    }
   ],
   "source": [
    "def hack(enc):\n",
    "    indexes = []\n",
    "    chars = []\n",
    "    listed_mes = list(enc)\n",
    "\n",
    "    while len(indexes) != 3:\n",
    "        index = np.random.randint(0, len(enc))\n",
    "        char = local_alphabet[np.random.randint(0, n)]\n",
    "        if (index not in indexes) and (char != enc[index]):\n",
    "            indexes.append(index)\n",
    "            chars.append(char)\n",
    "\n",
    "    for i in range(0, 3):\n",
    "        listed_mes[indexes[i]] = chars[i]\n",
    "\n",
    "    return \"\".join(listed_mes)\n",
    "\n",
    "\n",
    "hacked_enc2, hacked_enc3, hacked_enc4 = (hack(enc_i) for enc_i in (enc2, enc3, enc4))\n",
    "print(f\"Сообщения:\\n1. {hacked_enc2}\\n2. {hacked_enc3}\\n3. {hacked_enc4}\")"
   ],
   "metadata": {
    "collapsed": false,
    "ExecuteTime": {
     "end_time": "2024-09-20T16:51:30.527569400Z",
     "start_time": "2024-09-20T16:51:30.388382400Z"
    }
   },
   "id": "fa4f153d9229cb6a",
   "execution_count": 9
  },
  {
   "cell_type": "markdown",
   "source": [
    "### Расшифруем получившиеся сообщения: "
   ],
   "metadata": {
    "collapsed": false
   },
   "id": "43ee92d8c6986440"
  },
  {
   "cell_type": "code",
   "outputs": [
    {
     "name": "stdout",
     "output_type": "stream",
     "text": [
      "Сообщения:\n",
      "1. я  чкэю хлчр\n",
      "2. пуыетфю х чм\n",
      "3. я люймщёрыот\n"
     ]
    }
   ],
   "source": [
    "hacked_dec2, hacked_dec3, hacked_dec4 = (decrypt(key_matrix_i, enc_i) for key_matrix_i, enc_i in zip((key_matrix2, key_matrix3, key_matrix4), (hacked_enc2, hacked_enc3, hacked_enc4)))\n",
    "\n",
    "print(f\"Сообщения:\\n1. {hacked_dec2}\\n2. {hacked_dec3}\\n3. {hacked_dec4}\")"
   ],
   "metadata": {
    "collapsed": false,
    "ExecuteTime": {
     "end_time": "2024-09-20T16:51:30.528587800Z",
     "start_time": "2024-09-20T16:51:30.405397800Z"
    }
   },
   "id": "87161b9e89c53224",
   "execution_count": 10
  },
  {
   "cell_type": "markdown",
   "source": [
    "# Задание 2. Взлом шифра Хилла."
   ],
   "metadata": {
    "collapsed": false
   },
   "id": "93256e7afdff1efc"
  },
  {
   "cell_type": "markdown",
   "source": [
    "### Ключ размера 2x2:"
   ],
   "metadata": {
    "collapsed": false
   },
   "id": "43f6f894e652212f"
  },
  {
   "cell_type": "code",
   "outputs": [],
   "source": [
    "matrix_key = np.array([[1, 3], [3, 1]])"
   ],
   "metadata": {
    "collapsed": false,
    "ExecuteTime": {
     "end_time": "2024-09-20T16:51:30.529602100Z",
     "start_time": "2024-09-20T16:51:30.410336100Z"
    }
   },
   "id": "65366dcd8a6e03eb",
   "execution_count": 11
  },
  {
   "cell_type": "markdown",
   "source": [
    "### 2 сообщения из 12 символов:"
   ],
   "metadata": {
    "collapsed": false
   },
   "id": "9a5f521b34d44b52"
  },
  {
   "cell_type": "code",
   "outputs": [],
   "source": [
    "message1 = \"я люблю хлеб\"\n",
    "message2 = \"я люблю борщ\""
   ],
   "metadata": {
    "collapsed": false,
    "ExecuteTime": {
     "end_time": "2024-09-20T16:51:30.530586400Z",
     "start_time": "2024-09-20T16:51:30.413796200Z"
    }
   },
   "id": "a5df5c1937f53e03",
   "execution_count": 12
  },
  {
   "cell_type": "markdown",
   "source": [
    "### Шифруем 2 сообщения: "
   ],
   "metadata": {
    "collapsed": false
   },
   "id": "c14ff98c61f15b9"
  },
  {
   "cell_type": "code",
   "outputs": [
    {
     "name": "stdout",
     "output_type": "stream",
     "text": [
      "Сообщения:\n",
      "1. ьъбъэлычсжеи\n",
      "2. ьъбъэлычзочё\n"
     ]
    }
   ],
   "source": [
    "enc1, enc2 = (encrypt(matrix_key, message_i) for message_i in (message1, message2))\n",
    "print(f\"Сообщения:\\n1. {enc1}\\n2. {enc2}\")"
   ],
   "metadata": {
    "collapsed": false,
    "ExecuteTime": {
     "end_time": "2024-09-20T16:51:30.531589500Z",
     "start_time": "2024-09-20T16:51:30.417546200Z"
    }
   },
   "id": "7042e8c1d8f536fa",
   "execution_count": 13
  },
  {
   "cell_type": "markdown",
   "source": [
    "### Забыли одно исходное сообщение:"
   ],
   "metadata": {
    "collapsed": false
   },
   "id": "c7cbec0aebfef94b"
  },
  {
   "cell_type": "code",
   "outputs": [],
   "source": [
    "message1 = None"
   ],
   "metadata": {
    "collapsed": false,
    "ExecuteTime": {
     "end_time": "2024-09-20T16:51:30.541563700Z",
     "start_time": "2024-09-20T16:51:30.422715300Z"
    }
   },
   "id": "8c078eaa76a0f068",
   "execution_count": 14
  },
  {
   "cell_type": "markdown",
   "source": [
    "### Восстанавливаем ключ по исходному и шифрованному сообщению:"
   ],
   "metadata": {
    "collapsed": false
   },
   "id": "5547356ed5bba963"
  },
  {
   "cell_type": "code",
   "outputs": [],
   "source": [
    "p, c = [], []\n",
    "P, C = [], []\n",
    "for i in range(4):\n",
    "    p.append(local_alphabet.index(message2[i]))\n",
    "    c.append(local_alphabet.index(enc2[i]))\n",
    "    if len(p) == 2:\n",
    "        P.append(p)\n",
    "        C.append(c)\n",
    "        p, c = [], []\n",
    "P = np.array(P)\n",
    "C = np.array(C)\n",
    "matrix_key = np.array((Matrix(P).inv_mod(n)  * Matrix(C)) % n, dtype=int)"
   ],
   "metadata": {
    "collapsed": false,
    "ExecuteTime": {
     "end_time": "2024-09-20T16:51:30.555578300Z",
     "start_time": "2024-09-20T16:51:30.426598800Z"
    }
   },
   "id": "2db02d4a332c4cf0",
   "execution_count": 15
  },
  {
   "cell_type": "markdown",
   "source": [
    "### Расшифровываем забытое сообщение:"
   ],
   "metadata": {
    "collapsed": false
   },
   "id": "b7bf42ad9f0cc5e9"
  },
  {
   "cell_type": "code",
   "outputs": [
    {
     "data": {
      "text/plain": "'я люблю хлеб'"
     },
     "execution_count": 16,
     "metadata": {},
     "output_type": "execute_result"
    }
   ],
   "source": [
    "decrypt(matrix_key, enc1)"
   ],
   "metadata": {
    "collapsed": false,
    "ExecuteTime": {
     "end_time": "2024-09-20T16:51:30.565586800Z",
     "start_time": "2024-09-20T16:51:30.464674200Z"
    }
   },
   "id": "1f1d997f19797efb",
   "execution_count": 16
  },
  {
   "cell_type": "markdown",
   "source": [
    "# Задание 3. Код Хэмминга"
   ],
   "metadata": {
    "collapsed": false
   },
   "id": "e9f72bf26baa47e5"
  },
  {
   "cell_type": "markdown",
   "source": [
    "### Русский алфавит:\n"
   ],
   "metadata": {
    "collapsed": false
   },
   "id": "e672eb6d44603125"
  },
  {
   "cell_type": "code",
   "outputs": [
    {
     "data": {
      "text/plain": "32"
     },
     "execution_count": 17,
     "metadata": {},
     "output_type": "execute_result"
    }
   ],
   "source": [
    "russian_alphabet = ['а', 'б', 'в', 'г', 'д', 'е', 'ж', 'з', 'и', 'й', 'к', 'л', 'м', 'н','о', 'п', 'р', 'с', 'т', 'у', 'ф','х', 'ц', 'ч', 'ш', 'щ', 'ъ', 'ы', 'ь', 'э','ю','я']\n",
    "n = len(russian_alphabet)\n",
    "n"
   ],
   "metadata": {
    "collapsed": false,
    "ExecuteTime": {
     "end_time": "2024-09-20T16:51:30.568206200Z",
     "start_time": "2024-09-20T16:51:30.470660100Z"
    }
   },
   "id": "8452de2ca9847d86",
   "execution_count": 17
  },
  {
   "cell_type": "markdown",
   "source": [
    "### Присвоим каждой букве пятибитовый двоичный номер:"
   ],
   "metadata": {
    "collapsed": false
   },
   "id": "113dbc23cca8ed43"
  },
  {
   "cell_type": "code",
   "outputs": [
    {
     "data": {
      "text/plain": "{'а': '00000',\n 'б': '00001',\n 'в': '00010',\n 'г': '00011',\n 'д': '00100',\n 'е': '00101',\n 'ж': '00110',\n 'з': '00111',\n 'и': '01000',\n 'й': '01001',\n 'к': '01010',\n 'л': '01011',\n 'м': '01100',\n 'н': '01101',\n 'о': '01110',\n 'п': '01111',\n 'р': '10000',\n 'с': '10001',\n 'т': '10010',\n 'у': '10011',\n 'ф': '10100',\n 'х': '10101',\n 'ц': '10110',\n 'ч': '10111',\n 'ш': '11000',\n 'щ': '11001',\n 'ъ': '11010',\n 'ы': '11011',\n 'ь': '11100',\n 'э': '11101',\n 'ю': '11110',\n 'я': '11111'}"
     },
     "execution_count": 18,
     "metadata": {},
     "output_type": "execute_result"
    }
   ],
   "source": [
    "def convert_to_five_bit_number(number):\n",
    "    bin_number = \"\"\n",
    "    while number > 0:\n",
    "        bin_number += str(number % 2)\n",
    "        number //= 2\n",
    "    return \"0\" * (5 - len(bin_number)) + bin_number[::-1]\n",
    "\n",
    "\n",
    "russian_bin_alphabet = {russian_alphabet[i]: convert_to_five_bit_number(i) for i in range(n)}\n",
    "russian_bin_alphabet"
   ],
   "metadata": {
    "collapsed": false,
    "ExecuteTime": {
     "end_time": "2024-09-20T16:51:30.570214600Z",
     "start_time": "2024-09-20T16:51:30.475239900Z"
    }
   },
   "id": "5769f65c0d71592d",
   "execution_count": 18
  },
  {
   "cell_type": "markdown",
   "source": [
    "### Интересное слово из 4 букв:"
   ],
   "metadata": {
    "collapsed": false
   },
   "id": "48264d609de44b31"
  },
  {
   "cell_type": "code",
   "outputs": [],
   "source": [
    "word = \"шифр\""
   ],
   "metadata": {
    "collapsed": false,
    "ExecuteTime": {
     "end_time": "2024-09-20T16:51:30.571205700Z",
     "start_time": "2024-09-20T16:51:30.480345800Z"
    }
   },
   "id": "408bef816ba444a4",
   "execution_count": 19
  },
  {
   "cell_type": "markdown",
   "source": [
    "### Закодируем двоичным кодом:"
   ],
   "metadata": {
    "collapsed": false
   },
   "id": "641a9343fc9e19ae"
  },
  {
   "cell_type": "code",
   "outputs": [
    {
     "data": {
      "text/plain": "'11000010001010010000'"
     },
     "execution_count": 20,
     "metadata": {},
     "output_type": "execute_result"
    }
   ],
   "source": [
    "encrypted_bin_word = \"\".join([russian_bin_alphabet[letter] for letter in list(word)])\n",
    "encrypted_bin_word"
   ],
   "metadata": {
    "collapsed": false,
    "ExecuteTime": {
     "end_time": "2024-09-20T16:51:30.572207500Z",
     "start_time": "2024-09-20T16:51:30.483613700Z"
    }
   },
   "id": "8fe3ca032058a381",
   "execution_count": 20
  },
  {
   "cell_type": "markdown",
   "source": [
    "### Составим матрицы G и H:"
   ],
   "metadata": {
    "collapsed": false
   },
   "id": "188f2513626d2719"
  },
  {
   "cell_type": "code",
   "outputs": [],
   "source": [
    "G = np.array([[1, 1, 0, 1], [1, 0, 1, 1], [1, 0, 0, 0], [0, 1, 1, 1], [0, 1, 0, 0], [0, 0, 1, 0], [0, 0, 0, 1]])\n",
    "H = np.array([[1, 0, 1, 0, 1, 0, 1], [0, 1, 1, 0, 0, 1, 1], [0, 0, 0, 1, 1, 1, 1]])"
   ],
   "metadata": {
    "collapsed": false,
    "ExecuteTime": {
     "end_time": "2024-09-20T16:51:30.747472900Z",
     "start_time": "2024-09-20T16:51:30.487369Z"
    }
   },
   "id": "b93a0d87b8a77b3d",
   "execution_count": 21
  },
  {
   "cell_type": "markdown",
   "source": [
    "* Матрица G - это матрица-генератор кодов, которая преобразует информационное сообщение, представленное вектором размерности (4,1), в кодовое слово размерности (7,1). При этом она добавляет три дополнительных бита четности. Поэтому размер матрицы G составляет (4,7).\n",
    "* Матрица H используется для проверки целостности закодированного сообщения. Она анализирует кодовое слово размерности (7,1) и возвращает вектор размерности (3,1), который указывает на наличие ошибок. Если кодовое слово не повреждено, результат будет нуль-вектором; если присутствует ошибка, матрица H укажет на позицию испорченного бита. Соответственно, размер матрицы H составляет (3,7).\n",
    "* Можно сделать вывод, что ker H = Im G"
   ],
   "metadata": {
    "collapsed": false
   },
   "id": "b8d7e9335b9b8e07"
  },
  {
   "cell_type": "markdown",
   "source": [
    "### Закодируем слово с помощью матрицы G:"
   ],
   "metadata": {
    "collapsed": false
   },
   "id": "17cdfa7601f2f845"
  },
  {
   "cell_type": "code",
   "outputs": [
    {
     "data": {
      "text/plain": "'01111000101010010101000110010000000'"
     },
     "execution_count": 22,
     "metadata": {},
     "output_type": "execute_result"
    }
   ],
   "source": [
    "encoded_word = ''\n",
    "for i in range(0, len(encrypted_bin_word), 4):\n",
    "    p = np.array([int(c) for c in encrypted_bin_word[i : i + 4]])\n",
    "    x = G.dot(p) % 2\n",
    "    encoded_word += ''.join([str(i) for i in x])\n",
    "\n",
    "encoded_word"
   ],
   "metadata": {
    "collapsed": false,
    "ExecuteTime": {
     "end_time": "2024-09-20T16:51:30.749491100Z",
     "start_time": "2024-09-20T16:51:30.492330900Z"
    }
   },
   "id": "33b2b7d8c7ef12c7",
   "execution_count": 22
  },
  {
   "cell_type": "markdown",
   "source": [
    "### Сымитируем вредоносное вмешательство:"
   ],
   "metadata": {
    "collapsed": false
   },
   "id": "8be7bc3fd3f7ad3c"
  },
  {
   "cell_type": "code",
   "outputs": [],
   "source": [
    "broken_words = []\n",
    "broken1 = list(encoded_word)\n",
    "for _ in range(1):\n",
    "    i = randint(0, len(broken1) - 1)\n",
    "    broken1[i] = '1' if broken1[i] == '0' else '0'\n",
    "broken1 = ''.join(broken1)\n",
    "broken_words.append(broken1)\n",
    "\n",
    "broken2 = list(encoded_word)\n",
    "for _ in range(2):\n",
    "    i = randint(0, len(broken2) - 1)\n",
    "    broken2[i] = '1' if broken2[i] == '0' else '0'\n",
    "broken2 = ''.join(broken2)\n",
    "broken_words.append(broken2)\n",
    "\n",
    "broken3 = list(encoded_word)\n",
    "for _ in range(3):\n",
    "    i = randint(0, len(broken3) - 1)\n",
    "    broken3[i] = '1' if broken3[i] == '0' else '0'\n",
    "broken3 = ''.join(broken3)\n",
    "broken_words.append(broken3)\n",
    "\n",
    "broken4 = list(encoded_word)\n",
    "for _ in range(4):\n",
    "    i = randint(0, len(broken4) - 1)\n",
    "    broken4[i] = '1' if broken4[i] == '0' else '0'\n",
    "broken4 = ''.join(broken4)\n",
    "broken_words.append(broken4)"
   ],
   "metadata": {
    "collapsed": false,
    "ExecuteTime": {
     "end_time": "2024-09-20T16:51:30.750499900Z",
     "start_time": "2024-09-20T16:51:30.497866800Z"
    }
   },
   "id": "17a5c6a5c8f56875",
   "execution_count": 23
  },
  {
   "cell_type": "markdown",
   "source": [
    "### Находим и исправляем ошибки с помощью матрицы H и декодируем сообщение:"
   ],
   "metadata": {
    "collapsed": false
   },
   "id": "7658e879d5fab206"
  },
  {
   "cell_type": "code",
   "outputs": [
    {
     "name": "stdout",
     "output_type": "stream",
     "text": [
      "[0 1 0]\n",
      "[0 0 0]\n",
      "[0 0 0]\n",
      "[0 0 0]\n",
      "[0 0 0]\n",
      "---\n",
      "[0 0 0]\n",
      "[1 1 1]\n",
      "[0 0 0]\n",
      "[0 0 0]\n",
      "[0 0 0]\n",
      "---\n",
      "[0 0 0]\n",
      "[1 1 1]\n",
      "[1 1 1]\n",
      "[1 0 0]\n",
      "[0 0 0]\n",
      "---\n",
      "[1 0 1]\n",
      "[0 0 0]\n",
      "[1 1 0]\n",
      "[0 0 1]\n",
      "[0 0 0]\n",
      "---\n"
     ]
    }
   ],
   "source": [
    "R = np.array([[0, 0, 1, 0, 0, 0, 0], [0, 0, 0, 0, 1, 0, 0], [0, 0, 0, 0, 0, 1, 0], [0, 0, 0, 0, 0, 0, 1]])\n",
    "word_bins = []\n",
    "for broken in broken_words:\n",
    "    word_bin = ''\n",
    "    for i in range(0, len(broken), 7):\n",
    "        r = np.array([int(c) for c in broken[i : i + 7]])\n",
    "        z = H.dot(r) % 2\n",
    "        print(z)\n",
    "        if sum(z) != 0:\n",
    "            idx = int(''.join([str(n) for n in z[::-1]]), 2) - 1\n",
    "            r[idx] = 1 if r[idx] == 0 else 0\n",
    "        p = R.dot(r) % 2\n",
    "        word_bin += ''.join([str(i) for i in p])\n",
    "    print('---')\n",
    "    word_bins.append(word_bin)"
   ],
   "metadata": {
    "collapsed": false,
    "ExecuteTime": {
     "end_time": "2024-09-20T16:51:30.750499900Z",
     "start_time": "2024-09-20T16:51:30.502728500Z"
    }
   },
   "id": "9e76a9bc30ff1849",
   "execution_count": 24
  },
  {
   "cell_type": "markdown",
   "source": [
    "### Переводим полученный результат в слово из 4-х букв"
   ],
   "metadata": {
    "collapsed": false
   },
   "id": "de1a66db6e59e7dc"
  },
  {
   "cell_type": "code",
   "outputs": [
    {
     "name": "stdout",
     "output_type": "stream",
     "text": [
      "шифр\n",
      "щмфр\n",
      "шифр\n",
      "рифр\n"
     ]
    }
   ],
   "source": [
    "for word_bin in word_bins:\n",
    "    result = ''\n",
    "    for i in range(0, len(word_bin), 5):\n",
    "        result += russian_alphabet[list(russian_bin_alphabet.values()).index(word_bin[i : i + 5])]\n",
    "    print(result)"
   ],
   "metadata": {
    "collapsed": false,
    "ExecuteTime": {
     "end_time": "2024-09-20T16:51:30.751490900Z",
     "start_time": "2024-09-20T16:51:30.507649200Z"
    }
   },
   "id": "3332e0e31b68692e",
   "execution_count": 25
  },
  {
   "cell_type": "markdown",
   "source": [
    "#### Вывод: даже не зная ключа, но имея оригинал и зашифрованное сообщение, можно установить закономерности шифра, определить матрицу-ключ и взломать шифр, что позволит в дальнейшем расшифровывать любые зашифрованные сообщения."
   ],
   "metadata": {
    "collapsed": false
   },
   "id": "a45b1551903f3454"
  }
 ],
 "metadata": {
  "kernelspec": {
   "display_name": "Python 3",
   "language": "python",
   "name": "python3"
  },
  "language_info": {
   "codemirror_mode": {
    "name": "ipython",
    "version": 2
   },
   "file_extension": ".py",
   "mimetype": "text/x-python",
   "name": "python",
   "nbconvert_exporter": "python",
   "pygments_lexer": "ipython2",
   "version": "2.7.6"
  }
 },
 "nbformat": 4,
 "nbformat_minor": 5
}
